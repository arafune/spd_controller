{
 "cells": [
  {
   "cell_type": "markdown",
   "id": "cabd8c4d",
   "metadata": {},
   "source": [
    "# Rough checking about pulse overlapping with fast photodiod"
   ]
  },
  {
   "cell_type": "code",
   "execution_count": 2,
   "id": "6b8b5378",
   "metadata": {},
   "outputs": [
    {
     "name": "stdout",
     "output_type": "stream",
     "text": [
      "The autoreload extension is already loaded. To reload it, use:\n",
      "  %reload_ext autoreload\n"
     ]
    }
   ],
   "source": [
    "%load_ext autoreload\n",
    "%autoreload 2"
   ]
  },
  {
   "cell_type": "code",
   "execution_count": 2,
   "id": "37757bd8",
   "metadata": {
    "tags": []
   },
   "outputs": [],
   "source": [
    "import spd_controller.texio.gds3502 as gds3502\n",
    "import spd_controller.sigma.sc104 as sc104\n",
    "import numpy as np\n"
   ]
  },
  {
   "cell_type": "code",
   "execution_count": 4,
   "id": "6eb78393-8c17-466f-affd-3f0e65e030d1",
   "metadata": {
    "tags": []
   },
   "outputs": [],
   "source": [
    "gds = gds3502.GDS3502()\n"
   ]
  },
  {
   "cell_type": "code",
   "execution_count": 3,
   "id": "2ec5ec4e-62c1-483f-bc6b-794d349dc908",
   "metadata": {
    "tags": []
   },
   "outputs": [],
   "source": [
    "stage = sc104.SC104()"
   ]
  },
  {
   "cell_type": "code",
   "execution_count": 5,
   "id": "50c72e28",
   "metadata": {
    "tags": []
   },
   "outputs": [
    {
     "data": {
      "text/plain": [
       "':DISPlay:WAVEform VECTOR;PERSistence 1.000E-01;INTensity:WAVEform 50;INTensity:GRATicule 50;GRATicule FULL;:CHANnel CH1:DISPlay ON;BWLimit FULL;COUPling DC;INVert OFF;POSition -7.800E-03;PROBe:RATio 1.000e+00;PROBe:TYPe VOLTAGE;SCALe 5.000E-03;IMPedance 50;EXPand GROUND;:CHANnel CH2:DISPlay ON;BWLimit FULL;COUPling DC;INVert OFF;POSition -1.160E-01;PROBe:RATio 1.000e+00;PROBe:TYPe VOLTAGE;SCALe 5.000E-02;IMPedance 50;EXPand GROUND;:MATH:TYPe DUAL;DISP OFF;DUAL:SOURce1 CH1;SOURce2 CH2;OPERator PLUS;POSition 0.000E+00;SCALe 1.000E-01;FFT:SOURce CH1;MAG DB;WINDow HANNING;POSition 0.000E+00;SCALe ?;:MEASure:GATing SCREEN;SOURce1 CH1;SOURce2 CH2;:TIMebase:MODe MAIN;SCALe 5.000E-09;POSition 0.000E+00;WINDow:SCALe 5.000E-08;:ACQuire:MODe SAMPE;AVERage 2;:CURSor:SOURce CH1;MODe OFF;H1Position ;H2Position ;V1Position ;V2Position ;:HARDcopy:MODe SAVE;PRINTINKSaver ON;SAVEINKSaver OFF;SAVEFORMat PNG;:TRIGger:FREQuency 2.000E+00\\n;TYPe EDGE;SOURce CH2;COUPle DC;NREJ ON;REJect OFF;MODe AUTO;HOLDoff 1.000e-08;LEVelH 1.160E-01;LEVelL ?;EDGe:SLOP POSITIVE;DELay:TYPe TIME;DELay:TIME 0.000;DELay:EVENt 1;DELay:LEVel ?;PULSEWidth:POLarity POSITIVE;RUNT:POLarity POSITIVE;RISEFall:SLOP POSITIVE;VIDeo:TYPe NTSC;VIDeo:FIELd FIELD1;VIDeo:LINe 1;VIDeo:POLarity NEGATIVE;PULSe:WHEn THAN;PULSe:TIME 0.000;:REF1:DISPlay OFF;TIMebase:POSition -5.000E-11;SCALe 5.000E-09;OFFSet 7.200E-03;SCALe 2.000E-02;:REF2:DISPlay OFF;TIMebase:POSition 0.000E+00;SCALe 2.000E-04;OFFSet 0.000E+00;SCALe 5.000E-01;:REF3:DISPlay OFF;TIMebase:POSition 0.000E+00;SCALe 2.000E-04;OFFSet 0.000E+00;SCALe 5.000E-01;:REF4:DISPlay OFF;TIMebase:POSition 0.000E+00;SCALe 2.000E-04;OFFSet 0.000E+00;SCALe 5.000E-01\\n'"
      ]
     },
     "execution_count": 5,
     "metadata": {},
     "output_type": "execute_result"
    }
   ],
   "source": [
    "gds.lrn()"
   ]
  },
  {
   "cell_type": "code",
   "execution_count": 20,
   "id": "1ae2783a-aba5-41cc-be8b-57a51d1db48c",
   "metadata": {
    "tags": []
   },
   "outputs": [],
   "source": [
    "start_position = 210\n",
    "end_position = 230\n",
    "move_micron = 100"
   ]
  },
  {
   "cell_type": "code",
   "execution_count": null,
   "id": "8cbf014f-c8e8-4e02-a7cd-6cdf9c6a05ea",
   "metadata": {
    "tags": []
   },
   "outputs": [],
   "source": [
    "stage.move_abs(start_position)"
   ]
  },
  {
   "cell_type": "code",
   "execution_count": null,
   "id": "0c295082",
   "metadata": {
    "tags": []
   },
   "outputs": [],
   "source": [
    "current = stage.position()\n",
    "gds.acquire_memory(2)\n",
    "header = [\"timescale\"]\n",
    "data = [gds.timescale]\n",
    "while current < end_position:\n",
    "    header.append(\"{:.4f}\".format(current))\n",
    "    data.append(gds.acquire_memory(2))\n",
    "    stage.move_rel(move_micron, micron=True)\n",
    "    current = stage.position()"
   ]
  },
  {
   "cell_type": "code",
   "execution_count": 23,
   "id": "42315487",
   "metadata": {
    "tags": []
   },
   "outputs": [],
   "source": [
    "np.savetxt(\"pulse_overlap2.txt\", np.array(data).T, delimiter=\"\\t\", header = \"\\t\".join(header))"
   ]
  },
  {
   "cell_type": "code",
   "execution_count": 24,
   "id": "a57f8003-5082-43d3-958e-059d3f0ac780",
   "metadata": {
    "tags": []
   },
   "outputs": [],
   "source": [
    "stage.close()"
   ]
  },
  {
   "cell_type": "code",
   "execution_count": 25,
   "id": "23e17613-1a38-458e-9fda-114dccc7d49f",
   "metadata": {
    "tags": []
   },
   "outputs": [],
   "source": [
    "gds.close()"
   ]
  },
  {
   "cell_type": "code",
   "execution_count": null,
   "id": "fecb48bd-0dc9-496d-90ee-97a2d8652f29",
   "metadata": {},
   "outputs": [],
   "source": []
  }
 ],
 "metadata": {
  "kernelspec": {
   "display_name": "Python 3 (ipykernel)",
   "language": "python",
   "name": "python3"
  },
  "language_info": {
   "codemirror_mode": {
    "name": "ipython",
    "version": 3
   },
   "file_extension": ".py",
   "mimetype": "text/x-python",
   "name": "python",
   "nbconvert_exporter": "python",
   "pygments_lexer": "ipython3",
   "version": "3.11.2"
  }
 },
 "nbformat": 4,
 "nbformat_minor": 5
}
