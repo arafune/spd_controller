{
 "cells": [
  {
   "cell_type": "markdown",
   "id": "8b7fd2bf",
   "metadata": {},
   "source": [
    "# Pump probe experiments"
   ]
  },
  {
   "cell_type": "markdown",
   "id": "6290cae3",
   "metadata": {},
   "source": [
    "## Setting"
   ]
  },
  {
   "cell_type": "code",
   "execution_count": null,
   "id": "fd4d881b",
   "metadata": {
    "tags": []
   },
   "outputs": [],
   "source": [
    "## Setting for Prodigy connection\n",
    "import spd_controller.Specs.Prodigy as Prodigy\n",
    "from spd_controller.Specs.convert import itx\n",
    "prodigy = Prodigy.RemoteIn(host=\"127.0.0.1\")\n",
    "prodigy.connect()"
   ]
  },
  {
   "cell_type": "code",
   "execution_count": null,
   "id": "1007acfa",
   "metadata": {
    "tags": []
   },
   "outputs": [],
   "source": [
    "## Setting for Stepping motor controller\n",
    "import spd_controller.sigma.sc104 as sc104\n",
    "sc104 = sc104.SC104()"
   ]
  },
  {
   "cell_type": "markdown",
   "id": "39d11633",
   "metadata": {},
   "source": [
    "## 1. Single measurement with FAT mode"
   ]
  },
  {
   "cell_type": "code",
   "execution_count": null,
   "id": "d1f7afad",
   "metadata": {
    "tags": []
   },
   "outputs": [],
   "source": [
    "# Configuration\n",
    "prodigy.clear()  # <- clear the buffer.\n",
    "prodigy.defineFAT(start_energy=5, end_energy=6, step=0.02, dwell=.3)\n",
    "prodigy.checkFAT(start_energy=5, end_energy=6, step=0.02, dwell=.3)  # Not absolutely required.\n",
    "prodigy.set_excitation_energy(5.039)  # <- Set the excitation photon energy\n",
    "prodigy.validate()"
   ]
  },
  {
   "cell_type": "code",
   "execution_count": null,
   "id": "1ee91ecb",
   "metadata": {
    "tags": []
   },
   "outputs": [],
   "source": [
    "parameters = prodigy.param\n",
    "parameters"
   ]
  },
  {
   "cell_type": "code",
   "execution_count": null,
   "id": "8667a36b",
   "metadata": {},
   "outputs": [],
   "source": [
    "prodigy.start(). # <- strat to measure"
   ]
  },
  {
   "cell_type": "code",
   "execution_count": null,
   "id": "d5ca8353",
   "metadata": {},
   "outputs": [],
   "source": [
    "data = prodigy.get_data()"
   ]
  },
  {
   "cell_type": "code",
   "execution_count": null,
   "id": "d1878be4",
   "metadata": {},
   "outputs": [],
   "source": [
    "prodigy.save_data(\"PES_30_1.itx\", id=1, comment=\"\", measure_mode=\"FAT\") #  <- comment format is same as usual: \"variable_name:value;\"\n",
    "# Don't use the existing file name. The file is overwrittien."
   ]
  },
  {
   "cell_type": "markdown",
   "id": "6cfeba7b",
   "metadata": {},
   "source": [
    "## 2. Multi-scan measurement with SFAT (snapshot) mode\n",
    "\n",
    "Due to the prodigy side limitation, the number of scan must be unity.  To realize the multiple scanning, use scan command() instead of start()."
   ]
  },
  {
   "cell_type": "code",
   "execution_count": null,
   "id": "964985b0",
   "metadata": {},
   "outputs": [],
   "source": [
    "# Configuration\n",
    "prodigy.clear().  # <- clear the buffer.\n",
    "prodigy.defineSFAT(start_energy=5, end_energy=6, dwell=.3)\n",
    "prodigy.checkSFAT(start_energy=5, end_energy=6, dwell=.3) # Not absolutely required.\n",
    "prodigy.set_excitation_energy(5.039)  # <- Set the excitation photon energy\n",
    "prodigy.validate()"
   ]
  },
  {
   "cell_type": "code",
   "execution_count": null,
   "id": "ec0b0a18",
   "metadata": {},
   "outputs": [],
   "source": [
    "parameters = prodigy.param\n",
    "print(parameters)"
   ]
  },
  {
   "cell_type": "code",
   "execution_count": null,
   "id": "fe6c727d",
   "metadata": {},
   "outputs": [],
   "source": [
    "prodigy.scan(num_scan=3)"
   ]
  },
  {
   "cell_type": "code",
   "execution_count": null,
   "id": "ba7a7298",
   "metadata": {},
   "outputs": [],
   "source": [
    "prodigy.save_data('PES_30_2.itx', id=2, comment=\"\", measure_mode=\"SFAT\")"
   ]
  },
  {
   "cell_type": "markdown",
   "id": "49d24632",
   "metadata": {},
   "source": [
    "## 3. Moving steping motor"
   ]
  },
  {
   "cell_type": "code",
   "execution_count": null,
   "id": "14942b87",
   "metadata": {},
   "outputs": [],
   "source": [
    "### General syntax\n",
    "### sc104.move_to_origin() # <- Goto mechanica origin.\n",
    "sc104.move_abs(pos=220) # <- Move the mirror stage to the input position.\n",
    "sc104.move_rel(move=10, miron=True) # <- Move the mirror stage by the input distance from the current position.\n",
    "                                    # if micron=True is set, the value moving length is micon unit.\n",
    "sc104.position() # <- Returns the current position."
   ]
  },
  {
   "cell_type": "markdown",
   "id": "4e8f4b04",
   "metadata": {},
   "source": [
    "## 4. Pump-probe experiments"
   ]
  },
  {
   "cell_type": "code",
   "execution_count": null,
   "id": "ec5cd85f",
   "metadata": {},
   "outputs": [],
   "source": [
    "### Configureing the pump-probe experiments condition.\n",
    "stage_start = 220\n",
    "end_stage = 225\n",
    "stage_move = 100 # micron unit\n",
    "spectrum_id = 1\n",
    "file_name_prefix = \"PES_30_pumpprobe\""
   ]
  },
  {
   "cell_type": "markdown",
   "id": "c66ea65b",
   "metadata": {},
   "source": [
    "### "
   ]
  },
  {
   "cell_type": "code",
   "execution_count": null,
   "id": "1e7b5d89",
   "metadata": {},
   "outputs": [],
   "source": [
    "# Configuration\n",
    "prodigy.clear().  # <- clear the buffer.\n",
    "prodigy.defineSFAT(start_energy=5, end_energy=6, dwell=.3)\n",
    "prodigy.checkSFAT(start_energy=5, end_energy=6, dwell=.3) # Not absolutely required.\n",
    "prodigy.set_excitation_energy(5.039)  # <- Set the excitation photon energy\n",
    "prodigy.validate()"
   ]
  },
  {
   "cell_type": "markdown",
   "id": "1e5a7379",
   "metadata": {},
   "source": [
    "### Do the pump-probe measurement."
   ]
  },
  {
   "cell_type": "code",
   "execution_count": null,
   "id": "ea99d101",
   "metadata": {},
   "outputs": [],
   "source": [
    "current_position = sc104.position()\n",
    "while current_position < end_stage:\n",
    "    prodigy.scan(num_scan=3)\n",
    "    prodigy.save_data('{}_{:04}.itx'.format(file_name_prefix,spectrum_id),\n",
    "                      id=spectrum_id,\n",
    "                      comment=\"position:{:.4f};\".format(current_position), measure_mode=\"SFAT\")\n",
    "    sc104.move_rel(move=10, micron=True)\n",
    "    current_position = sc104.position()\n",
    "    spectrum_id +=1  # Increment the spectrum_id"
   ]
  }
 ],
 "metadata": {
  "kernelspec": {
   "display_name": "Python 3 (ipykernel)",
   "language": "python",
   "name": "python3"
  },
  "language_info": {
   "codemirror_mode": {
    "name": "ipython",
    "version": 3
   },
   "file_extension": ".py",
   "mimetype": "text/x-python",
   "name": "python",
   "nbconvert_exporter": "python",
   "pygments_lexer": "ipython3",
   "version": "3.11.2"
  },
  "vscode": {
   "interpreter": {
    "hash": "8a652a964aef987c371ea079e8fcdf60576f3bc047f2298cbd00c75cfcd42f58"
   }
  }
 },
 "nbformat": 4,
 "nbformat_minor": 5
}
